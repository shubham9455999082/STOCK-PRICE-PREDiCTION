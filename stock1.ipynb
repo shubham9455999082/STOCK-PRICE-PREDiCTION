{
 "cells": [
  {
   "cell_type": "code",
   "execution_count": 1,
   "metadata": {},
   "outputs": [],
   "source": [
    "import csv\n",
    "import numpy as np\n",
    "from sklearn import linear_model\n",
    "import matplotlib.pyplot as plt"
   ]
  },
  {
   "cell_type": "code",
   "execution_count": 2,
   "metadata": {},
   "outputs": [],
   "source": [
    "dates = []\n",
    "prices = []\n",
    " \n",
    "def get_data(filename):\n",
    "    with open(filename,'r') as csvfile:\n",
    "        csvFileReader = csv.reader(csvfile)\n",
    "        next(csvFileReader) #skipping column names\n",
    "        for row in csvFileReader:\n",
    "            if not row:\n",
    "                continue\n",
    "            dates.append(int(row[0]))\n",
    "            prices.append(float(row[1]))\n",
    "    return"
   ]
  },
  {
   "cell_type": "code",
   "execution_count": 3,
   "metadata": {},
   "outputs": [],
   "source": [
    "def predict_price(dates,prices,x):\n",
    "\tlinear_mod = linear_model.LinearRegression() #defining the linear regression model\n",
    "\tdates = np.reshape(dates,(len(dates),1)) # converting to matrix of n X 1\n",
    "\tprices = np.reshape(prices,(len(prices),1))\n",
    "\tlinear_mod.fit(dates,prices) #fitting the data points in the model\n",
    "\tpredicted_price =linear_mod.predict(x)\n",
    "\treturn predicted_price[0][0],linear_mod.coef_[0][0] ,linear_mod.intercept_[0]"
   ]
  },
  {
   "cell_type": "code",
   "execution_count": 4,
   "metadata": {},
   "outputs": [],
   "source": [
    "def show_plot(dates,prices):\n",
    "\tlinear_mod = linear_model.LinearRegression()\n",
    "\tdates = np.reshape(dates,(len(dates),1)) # converting to matrix of n X 1\n",
    "\tprices = np.reshape(prices,(len(prices),1))\n",
    "\tlinear_mod.fit(dates,prices) #fitting the data points in the model\n",
    "\tplt.scatter(dates,prices,color='yellow') #plotting the initial datapoints \n",
    "\tplt.plot(dates,linear_mod.predict(dates),color='blue',linewidth=3) #plotting the line made by linear regression\n",
    "\tplt.show()\n",
    "\treturn"
   ]
  },
  {
   "cell_type": "code",
   "execution_count": 8,
   "metadata": {},
   "outputs": [
    {
     "ename": "OSError",
     "evalue": "[Errno 22] Invalid argument: '\\u202aC:\\\\Users\\\\Shubham\\\\Desktop\\\\stock.csv'",
     "output_type": "error",
     "traceback": [
      "\u001b[1;31m---------------------------------------------------------------------------\u001b[0m",
      "\u001b[1;31mOSError\u001b[0m                                   Traceback (most recent call last)",
      "\u001b[1;32m<ipython-input-8-e8f46c841c01>\u001b[0m in \u001b[0;36m<module>\u001b[1;34m\u001b[0m\n\u001b[0;32m     34\u001b[0m         \u001b[1;32mreturn\u001b[0m \u001b[0mpredicted_price\u001b[0m\u001b[1;33m[\u001b[0m\u001b[1;36m0\u001b[0m\u001b[1;33m]\u001b[0m\u001b[1;33m[\u001b[0m\u001b[1;36m0\u001b[0m\u001b[1;33m]\u001b[0m\u001b[1;33m,\u001b[0m\u001b[0mlinear_mod\u001b[0m\u001b[1;33m.\u001b[0m\u001b[0mcoef_\u001b[0m\u001b[1;33m[\u001b[0m\u001b[1;36m0\u001b[0m\u001b[1;33m]\u001b[0m\u001b[1;33m[\u001b[0m\u001b[1;36m0\u001b[0m\u001b[1;33m]\u001b[0m \u001b[1;33m,\u001b[0m\u001b[0mlinear_mod\u001b[0m\u001b[1;33m.\u001b[0m\u001b[0mintercept_\u001b[0m\u001b[1;33m[\u001b[0m\u001b[1;36m0\u001b[0m\u001b[1;33m]\u001b[0m\u001b[1;33m\u001b[0m\u001b[1;33m\u001b[0m\u001b[0m\n\u001b[0;32m     35\u001b[0m \u001b[1;33m\u001b[0m\u001b[0m\n\u001b[1;32m---> 36\u001b[1;33m \u001b[0mget_data\u001b[0m\u001b[1;33m(\u001b[0m\u001b[1;34m\"‪C:\\\\Users\\\\Shubham\\\\Desktop\\\\stock.csv\"\u001b[0m\u001b[1;33m)\u001b[0m \u001b[1;31m# calling get_data method by passing the csv filei\u001b[0m\u001b[1;33m\u001b[0m\u001b[1;33m\u001b[0m\u001b[0m\n\u001b[0m\u001b[0;32m     37\u001b[0m \u001b[0mprint\u001b[0m\u001b[1;33m(\u001b[0m\u001b[0mdates\u001b[0m\u001b[1;33m)\u001b[0m\u001b[1;33m\u001b[0m\u001b[1;33m\u001b[0m\u001b[0m\n\u001b[0;32m     38\u001b[0m \u001b[0mprint\u001b[0m\u001b[1;33m(\u001b[0m\u001b[0mprices\u001b[0m\u001b[1;33m)\u001b[0m\u001b[1;33m\u001b[0m\u001b[1;33m\u001b[0m\u001b[0m\n",
      "\u001b[1;32m<ipython-input-8-e8f46c841c01>\u001b[0m in \u001b[0;36mget_data\u001b[1;34m(filename)\u001b[0m\n\u001b[0;32m      8\u001b[0m \u001b[1;33m\u001b[0m\u001b[0m\n\u001b[0;32m      9\u001b[0m \u001b[1;32mdef\u001b[0m \u001b[0mget_data\u001b[0m\u001b[1;33m(\u001b[0m\u001b[0mfilename\u001b[0m\u001b[1;33m)\u001b[0m\u001b[1;33m:\u001b[0m\u001b[1;33m\u001b[0m\u001b[1;33m\u001b[0m\u001b[0m\n\u001b[1;32m---> 10\u001b[1;33m         \u001b[1;32mwith\u001b[0m \u001b[0mopen\u001b[0m\u001b[1;33m(\u001b[0m\u001b[0mfilename\u001b[0m\u001b[1;33m,\u001b[0m\u001b[1;34m'r'\u001b[0m\u001b[1;33m)\u001b[0m \u001b[1;32mas\u001b[0m \u001b[0mcsvfile\u001b[0m\u001b[1;33m:\u001b[0m\u001b[1;33m\u001b[0m\u001b[1;33m\u001b[0m\u001b[0m\n\u001b[0m\u001b[0;32m     11\u001b[0m                 \u001b[0mcsvFileReader\u001b[0m \u001b[1;33m=\u001b[0m \u001b[0mcsv\u001b[0m\u001b[1;33m.\u001b[0m\u001b[0mreader\u001b[0m\u001b[1;33m(\u001b[0m\u001b[0mcsvfile\u001b[0m\u001b[1;33m)\u001b[0m\u001b[1;33m\u001b[0m\u001b[1;33m\u001b[0m\u001b[0m\n\u001b[0;32m     12\u001b[0m                 \u001b[0mnext\u001b[0m\u001b[1;33m(\u001b[0m\u001b[0mcsvFileReader\u001b[0m\u001b[1;33m)\u001b[0m \u001b[1;31m#skipping column names\u001b[0m\u001b[1;33m\u001b[0m\u001b[1;33m\u001b[0m\u001b[0m\n",
      "\u001b[1;31mOSError\u001b[0m: [Errno 22] Invalid argument: '\\u202aC:\\\\Users\\\\Shubham\\\\Desktop\\\\stock.csv'"
     ]
    }
   ],
   "source": [
    "import csv\n",
    "import numpy as np\n",
    "from sklearn import linear_model\n",
    "import matplotlib.pyplot as plt\n",
    " \n",
    "dates = []\n",
    "prices = []\n",
    " \n",
    "def get_data(filename):\n",
    "\twith open(filename,'r') as csvfile:\n",
    "\t\tcsvFileReader = csv.reader(csvfile)\n",
    "\t\tnext(csvFileReader) #skipping column names\n",
    "\t\tfor row in csvFileReader:\n",
    "\t\t\tdates.append(int(row[0]))\n",
    "\t\t\tprices.append(float(row[1]))\n",
    "\treturn\n",
    " \n",
    "def show_plot(dates,prices):\n",
    "\tlinear_mod = linear_model.LinearRegression()\n",
    "\tdates = np.reshape(dates,(len(dates),1)) # converting to matrix of n X 1\n",
    "\tprices = np.reshape(prices,(len(prices),1))\n",
    "\tlinear_mod.fit(dates,prices) #fitting the data points in the model\n",
    "\tplt.scatter(dates,prices,color='yellow') #plotting the initial datapoints \n",
    "\tplt.plot(dates,linear_mod.predict(dates),color='blue',linewidth=3) #plotting the line made by linear regression\n",
    "\tplt.show()\n",
    "\treturn\n",
    " \n",
    "def predict_price(dates,prices,x):\n",
    "\tlinear_mod = linear_model.LinearRegression() #defining the linear regression model\n",
    "\tdates = np.reshape(dates,(len(dates),1)) # converting to matrix of n X 1\n",
    "\tprices = np.reshape(prices,(len(prices),1))\n",
    "\tlinear_mod.fit(dates,prices) #fitting the data points in the model\n",
    "\tpredicted_price =linear_mod.predict(x)\n",
    "\treturn predicted_price[0][0],linear_mod.coef_[0][0] ,linear_mod.intercept_[0]\n",
    " \n",
    "get_data(\"‪C:\\\\Users\\\\Shubham\\\\Desktop\\\\stock.csv\") # calling get_data method by passing the csv filei\n",
    "print(dates)\n",
    "print(prices)\n",
    "print(\"\\n\")\n",
    " \n",
    "show_plot(dates,prices) \n",
    "#image of the plot will be generated. Save it if you want and then Close it to continue the execution of the below code.\n",
    " \n",
    "predicted_price, coefficient, constant = predict_price(dates,prices,29)  \n",
    "print(\"The stock open price for 29th Feb is: $\",str(predicted_price))\n",
    "print(\"The regression coefficient is \",str(coefficient),\", and the constant is \", str(constant))\n",
    "print(\"the relationship equation between dates and prices is: price = \",str(coefficient),\"* date + \",str(constant))"
   ]
  },
  {
   "cell_type": "code",
   "execution_count": null,
   "metadata": {},
   "outputs": [],
   "source": []
  },
  {
   "cell_type": "code",
   "execution_count": null,
   "metadata": {},
   "outputs": [],
   "source": []
  }
 ],
 "metadata": {
  "kernelspec": {
   "display_name": "Python 3",
   "language": "python",
   "name": "python3"
  },
  "language_info": {
   "codemirror_mode": {
    "name": "ipython",
    "version": 3
   },
   "file_extension": ".py",
   "mimetype": "text/x-python",
   "name": "python",
   "nbconvert_exporter": "python",
   "pygments_lexer": "ipython3",
   "version": "3.7.3"
  }
 },
 "nbformat": 4,
 "nbformat_minor": 2
}
